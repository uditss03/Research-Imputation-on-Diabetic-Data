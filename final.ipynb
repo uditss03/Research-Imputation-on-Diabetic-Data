{
 "cells": [
  {
   "cell_type": "code",
   "execution_count": 1,
   "metadata": {},
   "outputs": [
    {
     "data": {
      "text/html": [
       "<div>\n",
       "<style>\n",
       "    .dataframe thead tr:only-child th {\n",
       "        text-align: right;\n",
       "    }\n",
       "\n",
       "    .dataframe thead th {\n",
       "        text-align: left;\n",
       "    }\n",
       "\n",
       "    .dataframe tbody tr th {\n",
       "        vertical-align: top;\n",
       "    }\n",
       "</style>\n",
       "<table border=\"1\" class=\"dataframe\">\n",
       "  <thead>\n",
       "    <tr style=\"text-align: right;\">\n",
       "      <th></th>\n",
       "      <th>Pregnancies</th>\n",
       "      <th>Glucose</th>\n",
       "      <th>BloodPressure</th>\n",
       "      <th>SkinThickness</th>\n",
       "      <th>Insulin</th>\n",
       "      <th>BMI</th>\n",
       "      <th>DiabetesPedigreeFunction</th>\n",
       "      <th>Age</th>\n",
       "      <th>Outcome</th>\n",
       "    </tr>\n",
       "  </thead>\n",
       "  <tbody>\n",
       "    <tr>\n",
       "      <th>0</th>\n",
       "      <td>6.0</td>\n",
       "      <td>148.0</td>\n",
       "      <td>72.0</td>\n",
       "      <td>35.0</td>\n",
       "      <td>NaN</td>\n",
       "      <td>33.6</td>\n",
       "      <td>0.627</td>\n",
       "      <td>50.0</td>\n",
       "      <td>1</td>\n",
       "    </tr>\n",
       "    <tr>\n",
       "      <th>1</th>\n",
       "      <td>1.0</td>\n",
       "      <td>85.0</td>\n",
       "      <td>66.0</td>\n",
       "      <td>29.0</td>\n",
       "      <td>NaN</td>\n",
       "      <td>26.6</td>\n",
       "      <td>0.351</td>\n",
       "      <td>31.0</td>\n",
       "      <td>0</td>\n",
       "    </tr>\n",
       "    <tr>\n",
       "      <th>2</th>\n",
       "      <td>8.0</td>\n",
       "      <td>183.0</td>\n",
       "      <td>64.0</td>\n",
       "      <td>NaN</td>\n",
       "      <td>NaN</td>\n",
       "      <td>23.3</td>\n",
       "      <td>0.672</td>\n",
       "      <td>32.0</td>\n",
       "      <td>1</td>\n",
       "    </tr>\n",
       "    <tr>\n",
       "      <th>3</th>\n",
       "      <td>1.0</td>\n",
       "      <td>89.0</td>\n",
       "      <td>66.0</td>\n",
       "      <td>23.0</td>\n",
       "      <td>94.0</td>\n",
       "      <td>28.1</td>\n",
       "      <td>0.167</td>\n",
       "      <td>21.0</td>\n",
       "      <td>0</td>\n",
       "    </tr>\n",
       "    <tr>\n",
       "      <th>4</th>\n",
       "      <td>NaN</td>\n",
       "      <td>137.0</td>\n",
       "      <td>40.0</td>\n",
       "      <td>35.0</td>\n",
       "      <td>168.0</td>\n",
       "      <td>43.1</td>\n",
       "      <td>2.288</td>\n",
       "      <td>33.0</td>\n",
       "      <td>1</td>\n",
       "    </tr>\n",
       "  </tbody>\n",
       "</table>\n",
       "</div>"
      ],
      "text/plain": [
       "   Pregnancies  Glucose  BloodPressure  SkinThickness  Insulin   BMI  \\\n",
       "0          6.0    148.0           72.0           35.0      NaN  33.6   \n",
       "1          1.0     85.0           66.0           29.0      NaN  26.6   \n",
       "2          8.0    183.0           64.0            NaN      NaN  23.3   \n",
       "3          1.0     89.0           66.0           23.0     94.0  28.1   \n",
       "4          NaN    137.0           40.0           35.0    168.0  43.1   \n",
       "\n",
       "   DiabetesPedigreeFunction   Age  Outcome  \n",
       "0                     0.627  50.0        1  \n",
       "1                     0.351  31.0        0  \n",
       "2                     0.672  32.0        1  \n",
       "3                     0.167  21.0        0  \n",
       "4                     2.288  33.0        1  "
      ]
     },
     "execution_count": 1,
     "metadata": {},
     "output_type": "execute_result"
    }
   ],
   "source": [
    "import pandas as pd\n",
    "import numpy as np\n",
    "\n",
    "data = pd.read_csv(\"diabetes.csv\",index_col = False)\n",
    "cols = [\"Pregnancies\",\"Glucose\",\"BloodPressure\",\"SkinThickness\",\"Insulin\",\"BMI\",\"DiabetesPedigreeFunction\",\"Age\"]\n",
    "data[cols] = data[cols].replace({ 0:np.nan})\n",
    "data.head()"
   ]
  },
  {
   "cell_type": "code",
   "execution_count": 2,
   "metadata": {},
   "outputs": [
    {
     "data": {
      "text/plain": [
       "Pregnancies                 111\n",
       "Glucose                       5\n",
       "BloodPressure                35\n",
       "SkinThickness               227\n",
       "Insulin                     374\n",
       "BMI                          11\n",
       "DiabetesPedigreeFunction      0\n",
       "Age                           0\n",
       "Outcome                       0\n",
       "dtype: int64"
      ]
     },
     "execution_count": 2,
     "metadata": {},
     "output_type": "execute_result"
    }
   ],
   "source": [
    "data.isnull().sum(axis = 0)"
   ]
  },
  {
   "cell_type": "code",
   "execution_count": 3,
   "metadata": {},
   "outputs": [
    {
     "data": {
      "text/plain": [
       "(768, 9)"
      ]
     },
     "execution_count": 3,
     "metadata": {},
     "output_type": "execute_result"
    }
   ],
   "source": [
    "values = data.values\n",
    "values.shape"
   ]
  },
  {
   "cell_type": "markdown",
   "metadata": {},
   "source": [
    "## ChargeUp IMPUTATION"
   ]
  },
  {
   "cell_type": "code",
   "execution_count": 4,
   "metadata": {
    "collapsed": true
   },
   "outputs": [],
   "source": [
    "from IMPT import ChargeUp"
   ]
  },
  {
   "cell_type": "code",
   "execution_count": 5,
   "metadata": {},
   "outputs": [
    {
     "name": "stdout",
     "output_type": "stream",
     "text": [
      "[SoftImpute] Max Singular Value of X_init = 5142.039102\n",
      "[SoftImpute] Iter 1: observed MAE=2.136221 rank=6\n",
      "[SoftImpute] Iter 2: observed MAE=2.167593 rank=6\n",
      "[SoftImpute] Iter 3: observed MAE=2.188064 rank=6\n",
      "[SoftImpute] Iter 4: observed MAE=2.202709 rank=6\n",
      "[SoftImpute] Iter 5: observed MAE=2.215269 rank=6\n",
      "[SoftImpute] Iter 6: observed MAE=2.225528 rank=6\n",
      "[SoftImpute] Iter 7: observed MAE=2.233842 rank=6\n",
      "[SoftImpute] Iter 8: observed MAE=2.240267 rank=6\n",
      "[SoftImpute] Iter 9: observed MAE=2.244892 rank=6\n",
      "[SoftImpute] Iter 10: observed MAE=2.248227 rank=6\n",
      "[SoftImpute] Iter 11: observed MAE=2.250602 rank=6\n",
      "[SoftImpute] Iter 12: observed MAE=2.252134 rank=6\n",
      "[SoftImpute] Iter 13: observed MAE=2.253029 rank=6\n",
      "[SoftImpute] Iter 14: observed MAE=2.253581 rank=6\n",
      "[SoftImpute] Iter 15: observed MAE=2.253977 rank=6\n",
      "[SoftImpute] Iter 16: observed MAE=2.254220 rank=6\n",
      "[SoftImpute] Iter 17: observed MAE=2.254357 rank=6\n",
      "[SoftImpute] Iter 18: observed MAE=2.254391 rank=6\n",
      "[SoftImpute] Iter 19: observed MAE=2.254403 rank=6\n",
      "[SoftImpute] Iter 20: observed MAE=2.254365 rank=6\n",
      "[SoftImpute] Iter 21: observed MAE=2.254286 rank=6\n",
      "[SoftImpute] Iter 22: observed MAE=2.254184 rank=6\n",
      "[SoftImpute] Iter 23: observed MAE=2.254063 rank=6\n",
      "[SoftImpute] Iter 24: observed MAE=2.253931 rank=6\n",
      "[SoftImpute] Iter 25: observed MAE=2.253798 rank=6\n",
      "[SoftImpute] Iter 26: observed MAE=2.253670 rank=6\n",
      "[SoftImpute] Iter 27: observed MAE=2.253540 rank=6\n",
      "[SoftImpute] Iter 28: observed MAE=2.253411 rank=6\n",
      "[SoftImpute] Iter 29: observed MAE=2.253282 rank=6\n",
      "[SoftImpute] Iter 30: observed MAE=2.253164 rank=6\n",
      "[SoftImpute] Iter 31: observed MAE=2.253059 rank=6\n",
      "[SoftImpute] Iter 32: observed MAE=2.252954 rank=6\n",
      "[SoftImpute] Iter 33: observed MAE=2.252864 rank=6\n",
      "[SoftImpute] Iter 34: observed MAE=2.252778 rank=6\n",
      "[SoftImpute] Iter 35: observed MAE=2.252695 rank=6\n",
      "[SoftImpute] Iter 36: observed MAE=2.252610 rank=6\n",
      "[SoftImpute] Iter 37: observed MAE=2.252523 rank=6\n",
      "[SoftImpute] Iter 38: observed MAE=2.252436 rank=6\n",
      "[SoftImpute] Iter 39: observed MAE=2.252348 rank=6\n",
      "[SoftImpute] Iter 40: observed MAE=2.252257 rank=6\n",
      "[SoftImpute] Iter 41: observed MAE=2.252166 rank=6\n",
      "[SoftImpute] Iter 42: observed MAE=2.252079 rank=6\n",
      "[SoftImpute] Iter 43: observed MAE=2.251994 rank=6\n",
      "[SoftImpute] Iter 44: observed MAE=2.251911 rank=6\n",
      "[SoftImpute] Iter 45: observed MAE=2.251827 rank=6\n",
      "[SoftImpute] Iter 46: observed MAE=2.251740 rank=6\n",
      "[SoftImpute] Iter 47: observed MAE=2.251652 rank=6\n",
      "[SoftImpute] Iter 48: observed MAE=2.251562 rank=6\n",
      "[SoftImpute] Iter 49: observed MAE=2.251472 rank=6\n",
      "[SoftImpute] Iter 50: observed MAE=2.251380 rank=6\n",
      "[SoftImpute] Iter 51: observed MAE=2.251291 rank=6\n",
      "[SoftImpute] Iter 52: observed MAE=2.251208 rank=6\n",
      "[SoftImpute] Iter 53: observed MAE=2.251126 rank=6\n",
      "[SoftImpute] Iter 54: observed MAE=2.251043 rank=6\n",
      "[SoftImpute] Iter 55: observed MAE=2.250961 rank=6\n",
      "[SoftImpute] Iter 56: observed MAE=2.250880 rank=6\n",
      "[SoftImpute] Iter 57: observed MAE=2.250798 rank=6\n",
      "[SoftImpute] Iter 58: observed MAE=2.250716 rank=6\n",
      "[SoftImpute] Iter 59: observed MAE=2.250633 rank=6\n",
      "[SoftImpute] Iter 60: observed MAE=2.250552 rank=6\n",
      "[SoftImpute] Iter 61: observed MAE=2.250470 rank=6\n",
      "[SoftImpute] Iter 62: observed MAE=2.250389 rank=6\n",
      "[SoftImpute] Iter 63: observed MAE=2.250310 rank=6\n",
      "[SoftImpute] Iter 64: observed MAE=2.250234 rank=6\n",
      "[SoftImpute] Iter 65: observed MAE=2.250157 rank=6\n",
      "[SoftImpute] Iter 66: observed MAE=2.250083 rank=6\n",
      "[SoftImpute] Iter 67: observed MAE=2.250008 rank=6\n",
      "[SoftImpute] Iter 68: observed MAE=2.249933 rank=6\n",
      "[SoftImpute] Iter 69: observed MAE=2.249859 rank=6\n",
      "[SoftImpute] Iter 70: observed MAE=2.249791 rank=6\n",
      "[SoftImpute] Iter 71: observed MAE=2.249724 rank=6\n",
      "[SoftImpute] Iter 72: observed MAE=2.249658 rank=6\n",
      "[SoftImpute] Iter 73: observed MAE=2.249592 rank=6\n",
      "[SoftImpute] Iter 74: observed MAE=2.249527 rank=6\n",
      "[SoftImpute] Iter 75: observed MAE=2.249464 rank=6\n",
      "[SoftImpute] Iter 76: observed MAE=2.249405 rank=6\n",
      "[SoftImpute] Iter 77: observed MAE=2.249351 rank=6\n",
      "[SoftImpute] Iter 78: observed MAE=2.249296 rank=6\n",
      "[SoftImpute] Iter 79: observed MAE=2.249242 rank=6\n",
      "[SoftImpute] Iter 80: observed MAE=2.249189 rank=6\n",
      "[SoftImpute] Iter 81: observed MAE=2.249136 rank=6\n",
      "[SoftImpute] Iter 82: observed MAE=2.249084 rank=6\n",
      "[SoftImpute] Iter 83: observed MAE=2.249033 rank=6\n",
      "[SoftImpute] Iter 84: observed MAE=2.248983 rank=6\n",
      "[SoftImpute] Iter 85: observed MAE=2.248934 rank=6\n",
      "[SoftImpute] Iter 86: observed MAE=2.248886 rank=6\n",
      "[SoftImpute] Iter 87: observed MAE=2.248838 rank=6\n",
      "[SoftImpute] Iter 88: observed MAE=2.248791 rank=6\n",
      "[SoftImpute] Iter 89: observed MAE=2.248744 rank=6\n",
      "[SoftImpute] Iter 90: observed MAE=2.248698 rank=6\n",
      "[SoftImpute] Iter 91: observed MAE=2.248653 rank=6\n",
      "[SoftImpute] Iter 92: observed MAE=2.248608 rank=6\n",
      "[SoftImpute] Iter 93: observed MAE=2.248564 rank=6\n",
      "[SoftImpute] Iter 94: observed MAE=2.248520 rank=6\n",
      "[SoftImpute] Iter 95: observed MAE=2.248477 rank=6\n",
      "[SoftImpute] Iter 96: observed MAE=2.248434 rank=6\n",
      "[SoftImpute] Iter 97: observed MAE=2.248392 rank=6\n",
      "[SoftImpute] Iter 98: observed MAE=2.248350 rank=6\n",
      "[SoftImpute] Iter 99: observed MAE=2.248309 rank=6\n",
      "[SoftImpute] Iter 100: observed MAE=2.248268 rank=6\n",
      "[SoftImpute] Stopped after iteration 100 for lambda=102.840782\n"
     ]
    }
   ],
   "source": [
    "imputed_x = ChargeUp().fill_matrix(values)"
   ]
  },
  {
   "cell_type": "code",
   "execution_count": 6,
   "metadata": {},
   "outputs": [
    {
     "data": {
      "text/plain": [
       "array([[  6.   , 148.   ,  72.   , ...,   0.627,  50.   ,   1.   ],\n",
       "       [  1.   ,  85.   ,  66.   , ...,   0.351,  31.   ,   0.   ],\n",
       "       [  8.   , 183.   ,  64.   , ...,   0.672,  32.   ,   1.   ],\n",
       "       ...,\n",
       "       [  5.   , 121.   ,  72.   , ...,   0.245,  30.   ,   0.   ],\n",
       "       [  1.   , 126.   ,  60.   , ...,   0.349,  47.   ,   1.   ],\n",
       "       [  1.   ,  93.   ,  70.   , ...,   0.315,  23.   ,   0.   ]])"
      ]
     },
     "execution_count": 6,
     "metadata": {},
     "output_type": "execute_result"
    }
   ],
   "source": [
    "imputed_x "
   ]
  },
  {
   "cell_type": "code",
   "execution_count": null,
   "metadata": {
    "collapsed": true
   },
   "outputs": [],
   "source": []
  },
  {
   "cell_type": "code",
   "execution_count": null,
   "metadata": {
    "collapsed": true
   },
   "outputs": [],
   "source": []
  },
  {
   "cell_type": "markdown",
   "metadata": {},
   "source": [
    "## Classifier"
   ]
  },
  {
   "cell_type": "code",
   "execution_count": 7,
   "metadata": {
    "collapsed": true
   },
   "outputs": [],
   "source": [
    "y = values[:,8]\n",
    "x = np.delete(imputed_x, 8, 1)   "
   ]
  },
  {
   "cell_type": "code",
   "execution_count": 8,
   "metadata": {
    "collapsed": true
   },
   "outputs": [],
   "source": [
    "from sklearn.metrics import mean_squared_error, r2_score\n",
    "from sklearn.model_selection import train_test_split\n",
    "from sklearn import datasets\n",
    "xtr,xt,ytr,yt=train_test_split(x, y, test_size=0.1, random_state=42)"
   ]
  },
  {
   "cell_type": "code",
   "execution_count": 9,
   "metadata": {
    "collapsed": true
   },
   "outputs": [],
   "source": [
    "from sklearn import tree\n",
    "\n",
    "clf = tree.DecisionTreeClassifier()\n",
    "clf = clf.fit(xtr,ytr)\n",
    "ytp=clf.predict(xt)"
   ]
  },
  {
   "cell_type": "code",
   "execution_count": 10,
   "metadata": {},
   "outputs": [
    {
     "name": "stdout",
     "output_type": "stream",
     "text": [
      "Decision tree accuracy_score =  66.23376623376623 %\n"
     ]
    }
   ],
   "source": [
    "from sklearn.metrics import accuracy_score\n",
    "print(\"Decision tree accuracy_score = \" , accuracy_score(yt, ytp)*100 , \"%\")"
   ]
  },
  {
   "cell_type": "code",
   "execution_count": 11,
   "metadata": {},
   "outputs": [
    {
     "name": "stdout",
     "output_type": "stream",
     "text": [
      "KNN accuracy_score =  71.42857142857143 %\n"
     ]
    }
   ],
   "source": [
    "from sklearn.neighbors import KNeighborsClassifier\n",
    "neigh = KNeighborsClassifier(n_neighbors=3)\n",
    "neigh.fit(xtr, ytr) \n",
    "ytp = neigh.predict(xt)\n",
    "print(\"KNN accuracy_score = \" , accuracy_score(yt, ytp)*100 , \"%\")"
   ]
  },
  {
   "cell_type": "code",
   "execution_count": 12,
   "metadata": {},
   "outputs": [
    {
     "name": "stdout",
     "output_type": "stream",
     "text": [
      "Logistic accuracy_score =  72.72727272727273 %\n"
     ]
    }
   ],
   "source": [
    "from sklearn.linear_model import LogisticRegression\n",
    "log = LogisticRegression()\n",
    "log.fit(xtr,ytr)\n",
    "ytp= log.predict(xt)\n",
    "print(\"Logistic accuracy_score = \" , accuracy_score(yt, ytp)*100 , \"%\")"
   ]
  },
  {
   "cell_type": "code",
   "execution_count": 13,
   "metadata": {},
   "outputs": [
    {
     "name": "stdout",
     "output_type": "stream",
     "text": [
      "KNN accuracy_score =  71.42857142857143 %\n"
     ]
    }
   ],
   "source": [
    "from sklearn.neighbors import KNeighborsClassifier\n",
    "neigh = KNeighborsClassifier(n_neighbors=3)\n",
    "neigh.fit(xtr, ytr)\n",
    "ytp = neigh.predict(xt)\n",
    "print(\"KNN accuracy_score = \" , accuracy_score(yt, ytp)*100 , \"%\")"
   ]
  },
  {
   "cell_type": "code",
   "execution_count": 14,
   "metadata": {},
   "outputs": [
    {
     "name": "stdout",
     "output_type": "stream",
     "text": [
      "SVM accuracy_score =  64.93506493506493 %\n"
     ]
    }
   ],
   "source": [
    "from sklearn import svm\n",
    "clf = svm.SVC(gamma='scale')\n",
    "X = np.array(xtr)\n",
    "y = np.array(ytr)\n",
    "from sklearn.svm import SVC\n",
    "clf = SVC(gamma='auto')\n",
    "clf.fit(X, y)\n",
    "ytp = clf.predict(xt)\n",
    "print(\"SVM accuracy_score = \" , accuracy_score(yt, ytp)*100 , \"%\")"
   ]
  },
  {
   "cell_type": "code",
   "execution_count": null,
   "metadata": {
    "collapsed": true
   },
   "outputs": [],
   "source": []
  },
  {
   "cell_type": "code",
   "execution_count": 15,
   "metadata": {},
   "outputs": [
    {
     "name": "stderr",
     "output_type": "stream",
     "text": [
      "/home/phantom/anaconda3/lib/python3.6/site-packages/h5py/__init__.py:34: FutureWarning: Conversion of the second argument of issubdtype from `float` to `np.floating` is deprecated. In future, it will be treated as `np.float64 == np.dtype(float).type`.\n",
      "  from ._conv import register_converters as _register_converters\n",
      "Using TensorFlow backend.\n",
      "/home/phantom/anaconda3/lib/python3.6/site-packages/ipykernel_launcher.py:20: UserWarning: The `nb_epoch` argument in `fit` has been renamed `epochs`.\n"
     ]
    },
    {
     "name": "stdout",
     "output_type": "stream",
     "text": [
      "Epoch 1/10\n",
      "691/691 [==============================] - 16s 23ms/step - loss: 0.7029 - acc: 0.6165\n",
      "Epoch 2/10\n",
      "691/691 [==============================] - 0s 177us/step - loss: 0.6901 - acc: 0.6556\n",
      "Epoch 3/10\n",
      "691/691 [==============================] - 0s 182us/step - loss: 0.6923 - acc: 0.6295\n",
      "Epoch 4/10\n",
      "691/691 [==============================] - 0s 169us/step - loss: 0.6926 - acc: 0.6744\n",
      "Epoch 5/10\n",
      "691/691 [==============================] - 0s 183us/step - loss: 0.6751 - acc: 0.6845\n",
      "Epoch 6/10\n",
      "691/691 [==============================] - 0s 179us/step - loss: 0.6804 - acc: 0.6411\n",
      "Epoch 7/10\n",
      "691/691 [==============================] - 0s 178us/step - loss: 0.6659 - acc: 0.6802\n",
      "Epoch 8/10\n",
      "691/691 [==============================] - 0s 178us/step - loss: 0.6660 - acc: 0.6802\n",
      "Epoch 9/10\n",
      "691/691 [==============================] - 0s 173us/step - loss: 0.6654 - acc: 0.6903\n",
      "Epoch 10/10\n",
      "691/691 [==============================] - 0s 181us/step - loss: 0.6563 - acc: 0.6932\n"
     ]
    }
   ],
   "source": [
    "from keras.models import Sequential\n",
    "from keras.layers import Dense, Dropout, BatchNormalization, Activation\n",
    "from keras.utils import np_utils\n",
    "m = Sequential()\n",
    "m.add(Dense(8, input_shape=(8,)))\n",
    "m.add(BatchNormalization())\n",
    "m.add(Activation(\"relu\"))\n",
    "    \n",
    "m.add(Dense(6))\n",
    "m.add(BatchNormalization())\n",
    "m.add(Activation(\"relu\"))\n",
    "m.add(Dropout(0.4))\n",
    "    \n",
    "m.add(Dense(2, activation=\"relu\"))\n",
    "    \n",
    "# output layer\n",
    "m.add(Dense(1, activation='sigmoid'))\n",
    "\n",
    "m.compile(loss='binary_crossentropy', optimizer='rmsprop', metrics=['accuracy'])\n",
    "m.fit(xtr, ytr, nb_epoch=10, batch_size=30)\n",
    "ytp = m.predict(xt)"
   ]
  },
  {
   "cell_type": "code",
   "execution_count": 16,
   "metadata": {},
   "outputs": [
    {
     "name": "stdout",
     "output_type": "stream",
     "text": [
      "Deep Learning accuracy_score =  71.42857142857143 %\n"
     ]
    }
   ],
   "source": [
    "i=0\n",
    "for each in ytp: \n",
    "    if(each>=0.5):\n",
    "        ytp[i] = 1\n",
    "    else:\n",
    "        ytp[i] = 0\n",
    "    i+=1\n",
    "    \n",
    "print(\"Deep Learning accuracy_score = \" , accuracy_score(yt, ytp)*100 , \"%\")"
   ]
  },
  {
   "cell_type": "code",
   "execution_count": null,
   "metadata": {
    "collapsed": true
   },
   "outputs": [],
   "source": []
  }
 ],
 "metadata": {
  "kernelspec": {
   "display_name": "Python 3",
   "language": "python",
   "name": "python3"
  },
  "language_info": {
   "codemirror_mode": {
    "name": "ipython",
    "version": 3
   },
   "file_extension": ".py",
   "mimetype": "text/x-python",
   "name": "python",
   "nbconvert_exporter": "python",
   "pygments_lexer": "ipython3",
   "version": "3.6.8"
  }
 },
 "nbformat": 4,
 "nbformat_minor": 2
}
